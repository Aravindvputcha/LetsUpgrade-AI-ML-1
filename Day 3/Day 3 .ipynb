{
 "cells": [
  {
   "cell_type": "code",
   "execution_count": 5,
   "metadata": {},
   "outputs": [
    {
     "name": "stdout",
     "output_type": "stream",
     "text": [
      "The result of subtracting above two complex numbers is : (1+6j)\n"
     ]
    }
   ],
   "source": [
    "a = 4 + 8j\n",
    "b = 3 + 2j\n",
    "c = a - b\n",
    "print(\"The result of subtracting above two complex numbers is :\" , c)"
   ]
  },
  {
   "cell_type": "code",
   "execution_count": 24,
   "metadata": {},
   "outputs": [
    {
     "name": "stdout",
     "output_type": "stream",
     "text": [
      "Enter number 16\n",
      "2.0\n"
     ]
    }
   ],
   "source": [
    "import math\n",
    "a = int(input(\"Enter number \"))\n",
    "b = math.sqrt(math.sqrt(a))\n",
    "print(b)"
   ]
  },
  {
   "cell_type": "code",
   "execution_count": 22,
   "metadata": {},
   "outputs": [
    {
     "name": "stdout",
     "output_type": "stream",
     "text": [
      "Before Swapping two numbers: a =  3 , b = 4 \n",
      "\n",
      "After Swapping two numbers: a =  4 , b =  3 \n",
      "\n"
     ]
    }
   ],
   "source": [
    "a = 3\n",
    "b = 4\n",
    "print(\"Before Swapping two numbers: a = \",a,\", b =\",b,\"\\n\")\n",
    "c = a\n",
    "a = b\n",
    "b = c\n",
    "print(\"After Swapping two numbers: a = \",a,\", b = \",b,\"\\n\")"
   ]
  },
  {
   "cell_type": "code",
   "execution_count": 21,
   "metadata": {},
   "outputs": [
    {
     "name": "stdout",
     "output_type": "stream",
     "text": [
      "Before Swapping two numbers: a =  5 , b = 2 \n",
      "\n",
      "After Swapping two numbers: a =  2 , b =  5 \n",
      "\n"
     ]
    }
   ],
   "source": [
    "a = 5\n",
    "b = 2\n",
    "print(\"Before Swapping two numbers: a = \",a,\", b =\",b,\"\\n\")\n",
    "a = a + b\n",
    "b = a - b\n",
    "a = a - b\n",
    "print(\"After Swapping two numbers: a = \",a,\", b = \",b,\"\\n\")"
   ]
  },
  {
   "cell_type": "code",
   "execution_count": 27,
   "metadata": {},
   "outputs": [
    {
     "name": "stdout",
     "output_type": "stream",
     "text": [
      "Enter temperature in Fahrenheit : 32\n",
      "Degrees in Celcius :  0.0\n",
      "Degrees in Kelvin :  273.15\n"
     ]
    }
   ],
   "source": [
    "a = float(input(\"Enter temperature in Fahrenheit : \"))\n",
    "b = (a -32)*(5/9)\n",
    "print(\"Degrees in Celcius : \",b )\n",
    "c = ((a -32)*(5/9)) + 273.15\n",
    "print(\"Degrees in Kelvin : \",c )"
   ]
  },
  {
   "cell_type": "code",
   "execution_count": 34,
   "metadata": {
    "scrolled": true
   },
   "outputs": [
    {
     "name": "stdout",
     "output_type": "stream",
     "text": [
      "Datatypes in Python\n",
      "\n",
      "<class 'int'>\n",
      "<class 'str'>\n",
      "<class 'float'>\n",
      "<class 'list'>\n",
      "<class 'tuple'>\n",
      "<class 'dict'>\n",
      "<class 'complex'>\n",
      "<class 'bool'>\n"
     ]
    }
   ],
   "source": [
    "print(\"Datatypes in Python\\n\")\n",
    "print(type(10))\n",
    "print(type('Soundarya'))\n",
    "print(type(40.898990))\n",
    "print(type([1,4,5]))\n",
    "print(type((1,4,5)))\n",
    "print(type({'name' : 'test'}))\n",
    "print(type(2+5j))\n",
    "print(type(True))"
   ]
  },
  {
   "cell_type": "markdown",
   "metadata": {},
   "source": [
    "# GitHub\n",
    "## Steps to create github profile:\n",
    "Create a Github public repo and name it LetsUpgrade AI/ML\n",
    "Upload the files/solution in the repo in day wise manner.\n",
    "\n",
    "__Assignment submission:__\n",
    "Copy the URL of the Folder of that day and paste in the Assignment Submission Form (Google Form)"
   ]
  },
  {
   "cell_type": "markdown",
   "metadata": {},
   "source": []
  }
 ],
 "metadata": {
  "kernelspec": {
   "display_name": "Python 3",
   "language": "python",
   "name": "python3"
  },
  "language_info": {
   "codemirror_mode": {
    "name": "ipython",
    "version": 3
   },
   "file_extension": ".py",
   "mimetype": "text/x-python",
   "name": "python",
   "nbconvert_exporter": "python",
   "pygments_lexer": "ipython3",
   "version": "3.7.1"
  }
 },
 "nbformat": 4,
 "nbformat_minor": 2
}
