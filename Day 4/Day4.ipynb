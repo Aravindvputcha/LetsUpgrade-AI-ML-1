{
 "cells": [
  {
   "cell_type": "code",
   "execution_count": 8,
   "metadata": {
    "scrolled": true
   },
   "outputs": [
    {
     "name": "stdout",
     "output_type": "stream",
     "text": [
      "Complex number operations for subtraction, addition, multiplication and division are below respectively. We cant perform mod and floor division on complex numbers\n",
      "\n",
      "(1+1j) (7+9j) (-8+31j) (1.28-0.04j)\n"
     ]
    }
   ],
   "source": [
    "a = 4 + 5j\n",
    "b = 3 + 4j\n",
    "c = a - b\n",
    "d = a + b\n",
    "e = a * b\n",
    "f = a/b\n",
    "print(\"Complex number operations for subtraction, addition, multiplication and division are below respectively. We cant perform mod and floor division on complex numbers\\n\")\n",
    "print(c, d, e, f)\n"
   ]
  },
  {
   "cell_type": "markdown",
   "metadata": {},
   "source": [
    "__Range:__ range() function returns sequence of numbers starting from 0 to the mentioned number and its syntax is range(start, stop, step). Inctements by the step value specified"
   ]
  },
  {
   "cell_type": "code",
   "execution_count": 13,
   "metadata": {},
   "outputs": [
    {
     "name": "stdout",
     "output_type": "stream",
     "text": [
      "range with single param\n",
      "0\n",
      "1\n",
      "2\n",
      "3\n",
      "4\n",
      "range with start and stop\n",
      "2\n",
      "3\n",
      "4\n",
      "5\n",
      "6\n",
      "7\n",
      "range with start and stop and step\n",
      "5\n",
      "8\n",
      "11\n",
      "14\n",
      "17\n"
     ]
    }
   ],
   "source": [
    "a = range(5)\n",
    "print(\"range with single param\")\n",
    "for x in a:\n",
    "    print(x)\n",
    "b = range(2,8)\n",
    "print(\"range with start and stop\")\n",
    "for x in b:\n",
    "    print(x)\n",
    "c = range(5,20,3)\n",
    "print(\"range with start and stop and step\")\n",
    "for x in c:\n",
    "    print(x)"
   ]
  },
  {
   "cell_type": "code",
   "execution_count": 3,
   "metadata": {},
   "outputs": [
    {
     "name": "stdout",
     "output_type": "stream",
     "text": [
      "enter a number: 50\n",
      "enter another number: 25\n",
      "2.0\n"
     ]
    }
   ],
   "source": [
    "a = int(input(\"enter a number: \"))\n",
    "b = int(input(\"enter another number: \"))\n",
    "c= a-b\n",
    "if c>25:\n",
    "    print(a*b)\n",
    "else:\n",
    "    print(a/b)"
   ]
  },
  {
   "cell_type": "code",
   "execution_count": 4,
   "metadata": {},
   "outputs": [
    {
     "name": "stdout",
     "output_type": "stream",
     "text": [
      "2\n",
      "14\n",
      "34\n",
      "62\n",
      "98\n"
     ]
    }
   ],
   "source": [
    "list = [1,2,3,4,5,6,7,8,9,10]\n",
    "for x in list:\n",
    "    if (x%2 == 0):\n",
    "        print((x**2)-2)"
   ]
  },
  {
   "cell_type": "code",
   "execution_count": 7,
   "metadata": {},
   "outputs": [
    {
     "name": "stdout",
     "output_type": "stream",
     "text": [
      "20\n",
      "30\n",
      "40\n",
      "50\n",
      "60\n",
      "70\n",
      "80\n"
     ]
    }
   ],
   "source": [
    "list = [6,10,15,20,30,40,50,60,70,80]\n",
    "for num in list:\n",
    "    if(num//2 >7):\n",
    "        print(num)"
   ]
  },
  {
   "cell_type": "code",
   "execution_count": null,
   "metadata": {},
   "outputs": [],
   "source": []
  }
 ],
 "metadata": {
  "kernelspec": {
   "display_name": "Python 3",
   "language": "python",
   "name": "python3"
  },
  "language_info": {
   "codemirror_mode": {
    "name": "ipython",
    "version": 3
   },
   "file_extension": ".py",
   "mimetype": "text/x-python",
   "name": "python",
   "nbconvert_exporter": "python",
   "pygments_lexer": "ipython3",
   "version": "3.7.1"
  }
 },
 "nbformat": 4,
 "nbformat_minor": 2
}
