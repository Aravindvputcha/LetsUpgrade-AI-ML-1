{
 "cells": [
  {
   "cell_type": "code",
   "execution_count": 19,
   "metadata": {},
   "outputs": [
    {
     "name": "stdout",
     "output_type": "stream",
     "text": [
      "First 20 non-even natural prime numbers:\n",
      "3\n",
      "5\n",
      "7\n",
      "11\n",
      "13\n",
      "17\n",
      "19\n",
      "23\n",
      "29\n",
      "31\n",
      "37\n",
      "41\n",
      "43\n",
      "47\n",
      "53\n",
      "59\n",
      "61\n",
      "67\n",
      "71\n",
      "73\n",
      "79\n"
     ]
    }
   ],
   "source": [
    "num = 2\n",
    "count = 0\n",
    "divisor = 0\n",
    "prime = False\n",
    "print(\"First 20 non-even natural prime numbers:\")\n",
    "while count<=20:\n",
    "    for x in range(1,num):\n",
    "        if(num%x == 0):\n",
    "            divisor = divisor + 1\n",
    "    #check for prime and non-even\n",
    "    if(divisor<2 and num%2!=0):\n",
    "        prime = True\n",
    "    else:\n",
    "        prime = False\n",
    "    if prime == True:       \n",
    "        print(num)\n",
    "        count= count+1\n",
    "    num = num+1\n",
    "    divisor = 0"
   ]
  },
  {
   "cell_type": "code",
   "execution_count": 75,
   "metadata": {
    "scrolled": true
   },
   "outputs": [
    {
     "name": "stdout",
     "output_type": "stream",
     "text": [
      "String functions:\n",
      "\n",
      "capitalize Telephone\n",
      "count 2\n",
      "endswith True\n",
      "find 3\n",
      "index 3\n",
      "isalpha True\n",
      "isdigit False\n",
      "isdigit True\n",
      "islower True\n",
      "isspace True\n",
      "istitle True\n",
      "isupper False\n",
      "join ntelephoneutelephonemtelephonebtelephoneetelephoner\n",
      "replace tHlHphone\n",
      "lstrip phone\n",
      "split ['te', 'te', 'te,te']\n",
      "length 9\n",
      "swapcase TELEPHONE\n"
     ]
    }
   ],
   "source": [
    "print(\"String functions:\\n\")\n",
    "data = \"telephone\"\n",
    "\n",
    "print(\"capitalize\",data.capitalize())\n",
    "print(\"count\",data.count('e',2))\n",
    "print(\"endswith\",data.endswith('one'))\n",
    "print(\"find\",data.find(\"eph\",2,10))\n",
    "print(\"index\",data.index(\"eph\",2,10))\n",
    "print(\"isalpha\",data.isalpha())\n",
    "print(\"isdigit\",data.isdigit())\n",
    "print(\"isdigit\",\"1234\".isdigit())\n",
    "print(\"islower\",data.islower())\n",
    "print(\"isspace\",'  '.isspace())\n",
    "print(\"istitle\",'Title'.istitle())\n",
    "print(\"isupper\",data.isupper())\n",
    "print(\"join\",data.join('number'))\n",
    "print('replace',data.replace('e','H',2))\n",
    "print('lstrip',data.lstrip('tele'))\n",
    "print('split','te,te,te,te'.split(',',2))\n",
    "print('length',len(data))\n",
    "print('swapcase',data.swapcase())"
   ]
  },
  {
   "cell_type": "code",
   "execution_count": 8,
   "metadata": {},
   "outputs": [
    {
     "name": "stdout",
     "output_type": "stream",
     "text": [
      "Enter a string\n",
      "rotator\n",
      "given string is palindrome\n",
      "enter a stringstep\n",
      "enter another stringpets\n",
      "Entered strings are anagrams\n"
     ]
    }
   ],
   "source": [
    "#Check if palindrome or not\n",
    "data = input(\"Enter a string\\n\")\n",
    "t = data[::-1]\n",
    "if data == t :\n",
    "    print(\"given string is palindrome\")\n",
    "else:\n",
    "    print(\"given string is not palindrome\")\n",
    "\n",
    "#Check if anagrams or not\n",
    "a = input(\"enter a string\")\n",
    "b = input(\"enter another string\")\n",
    "i = sorted(a)\n",
    "j = sorted(b)\n",
    "count = 0 \n",
    "if(len(a) == len(b)):\n",
    "    for x in range(0,len(a)):\n",
    "        if i[x] != j[x]:\n",
    "            count = count +1\n",
    "    if count>0 :\n",
    "        print(\"Entered strings are not anagrams\")\n",
    "    else:\n",
    "        print(\"Entered strings are anagrams\")\n",
    "else:\n",
    "    print(\"Entered strings are not anagrams\")\n",
    "\n",
    "\n"
   ]
  },
  {
   "cell_type": "code",
   "execution_count": 10,
   "metadata": {},
   "outputs": [
    {
     "name": "stdout",
     "output_type": "stream",
     "text": [
      "enterastring\n"
     ]
    }
   ],
   "source": [
    "a = \"ENTER A STRING\"\n",
    "print(a.replace(\" \",\"\").lower())"
   ]
  }
 ],
 "metadata": {
  "kernelspec": {
   "display_name": "Python 3",
   "language": "python",
   "name": "python3"
  },
  "language_info": {
   "codemirror_mode": {
    "name": "ipython",
    "version": 3
   },
   "file_extension": ".py",
   "mimetype": "text/x-python",
   "name": "python",
   "nbconvert_exporter": "python",
   "pygments_lexer": "ipython3",
   "version": "3.7.1"
  }
 },
 "nbformat": 4,
 "nbformat_minor": 2
}
